{
  "nbformat": 4,
  "nbformat_minor": 0,
  "metadata": {
    "colab": {
      "provenance": [],
      "authorship_tag": "ABX9TyOd1p/hT1Beg6DXmM62mWhu",
      "include_colab_link": true
    },
    "kernelspec": {
      "name": "python3",
      "display_name": "Python 3"
    },
    "language_info": {
      "name": "python"
    }
  },
  "cells": [
    {
      "cell_type": "markdown",
      "metadata": {
        "id": "view-in-github",
        "colab_type": "text"
      },
      "source": [
        "<a href=\"https://colab.research.google.com/github/ch23s020/assignment2/blob/main/Assignment2_CH23S020.ipynb\" target=\"_parent\"><img src=\"https://colab.research.google.com/assets/colab-badge.svg\" alt=\"Open In Colab\"/></a>"
      ]
    },
    {
      "cell_type": "code",
      "execution_count": null,
      "metadata": {
        "id": "aSzW0_xPFn5G"
      },
      "outputs": [],
      "source": [
        "from google.colab import drive\n",
        "from zipfile import ZipFile\n",
        "\n",
        "# Mount Google Drive (authentication required only on first run)\n",
        "drive.mount('/content/drive')\n",
        "\n",
        "# Specify paths\n",
        "zip_path = \"/content/drive/MyDrive/nature_12K.zip\"\n",
        "target_dir = \"/content/drive/MyDrive/Assignment_2\"  # Note the double underscore\n",
        "\n",
        "try:\n",
        "  # Create the target directory (if it doesn't exist)\n",
        "  !mkdir -p {target_dir}\n",
        "\n",
        "  # Extract the zip file\n",
        "  with ZipFile(zip_path, 'r') as zip_ref:\n",
        "    zip_ref.extractall(target_dir)\n",
        "\n",
        "  print(\"Unzipped successfully!\")\n",
        "\n",
        "except Exception as e:\n",
        "  print(f\"Error unzipping: {e}\")\n",
        "\n",
        "# Unmount Google Drive (optional)\n",
        "#drive.unmount('/content/drive')"
      ]
    }
  ]
}