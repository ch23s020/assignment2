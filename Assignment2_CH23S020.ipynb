{
  "nbformat": 4,
  "nbformat_minor": 0,
  "metadata": {
    "colab": {
      "provenance": [],
      "authorship_tag": "ABX9TyPnTs5cNhmI2mu29w71LhSN",
      "include_colab_link": true
    },
    "kernelspec": {
      "name": "python3",
      "display_name": "Python 3"
    },
    "language_info": {
      "name": "python"
    }
  },
  "cells": [
    {
      "cell_type": "markdown",
      "metadata": {
        "id": "view-in-github",
        "colab_type": "text"
      },
      "source": [
        "<a href=\"https://colab.research.google.com/github/ch23s020/assignment2/blob/main/Assignment2_CH23S020.ipynb\" target=\"_parent\"><img src=\"https://colab.research.google.com/assets/colab-badge.svg\" alt=\"Open In Colab\"/></a>"
      ]
    },
    {
      "cell_type": "code",
      "execution_count": null,
      "metadata": {
        "id": "aSzW0_xPFn5G"
      },
      "outputs": [],
      "source": [
        "from google.colab import drive\n",
        "from zipfile import ZipFile\n",
        "\n",
        "# Mount Google Drive (authentication required only on first run)\n",
        "drive.mount('/content/drive')\n",
        "\n",
        "# Specify paths\n",
        "zip_path = \"/content/drive/MyDrive/nature_12K.zip\"\n",
        "target_dir = \"/content/drive/MyDrive/Assignment_2\"  # Note the double underscore\n",
        "\n",
        "try:\n",
        "  # Create the target directory (if it doesn't exist)\n",
        "  !mkdir -p {target_dir}\n",
        "\n",
        "  # Extract the zip file\n",
        "  with ZipFile(zip_path, 'r') as zip_ref:\n",
        "    zip_ref.extractall(target_dir)\n",
        "\n",
        "  print(\"Unzipped successfully!\")\n",
        "\n",
        "except Exception as e:\n",
        "  print(f\"Error unzipping: {e}\")\n",
        "\n",
        "# Unmount Google Drive (optional)\n",
        "#drive.unmount('/content/drive')"
      ]
    },
    {
      "cell_type": "code",
      "source": [],
      "metadata": {
        "id": "0Rrj0Z0gH4E2"
      },
      "execution_count": null,
      "outputs": []
    },
    {
      "cell_type": "code",
      "source": [
        "import torch\n",
        "import torch.nn as nn\n",
        "import torch.optim as optim\n",
        "import torchvision.transforms as transforms\n",
        "import torchvision.datasets as datasets\n",
        "from torch.utils.data import DataLoader, random_split\n",
        "import numpy as np"
      ],
      "metadata": {
        "id": "ag1BhlgFH4H6"
      },
      "execution_count": null,
      "outputs": []
    },
    {
      "cell_type": "code",
      "source": [
        "class CNN_i_Naturalist(nn.Module):\n",
        "    def __init__(self, num_classes, num_filters, filter_size, activation, filter_org, use_batchnorm, use_dropout):\n",
        "        super(CNN_i_Naturalist, self).__init__()\n",
        "        self.num_classes = num_classes\n",
        "        self.num_filters = num_filters\n",
        "        self.filter_size = filter_size\n",
        "        self.activation = activation\n",
        "        self.filter_org = filter_org\n",
        "        self.use_batchnorm = use_batchnorm\n",
        "        self.use_dropout = use_dropout\n",
        "\n",
        "        # Convolution layers\n",
        "        layers = []\n",
        "        in_channels = 3 # Assuming RGB images\n",
        "        prev_output_size = 224  # Initial image size, adjust as necessary\n",
        "        for i in range(len(num_filters)):\n",
        "            layers.append(nn.Conv2d(in_channels, num_filters[i], filter_size[i]))\n",
        "            if use_batchnorm:\n",
        "                layers.append(nn.BatchNorm2d(num_filters[i]))\n",
        "            if activation == 'ReLU':\n",
        "                layers.append(nn.ReLU())\n",
        "            elif activation == 'GELU':\n",
        "                layers.append(nn.GELU())\n",
        "            elif activation == 'SiLU':\n",
        "                layers.append(nn.SiLU())\n",
        "            elif activation == 'Mish':\n",
        "                layers.append(nn.Mish())\n",
        "            layers.append(nn.MaxPool2d(2, 2))\n",
        "            if use_dropout:\n",
        "                layers.append(nn.Dropout(0.2))\n",
        "            in_channels = num_filters[i]\n",
        "            # Calculate the output size of this layer\n",
        "            prev_output_size = (prev_output_size - filter_size[i][0] + 1) // 2\n",
        "        self.conv_layers = nn.Sequential(*layers)\n",
        "\n",
        "        # Calculate the input size to the fully connected layers\n",
        "        self.fc_input_size = in_channels * prev_output_size * prev_output_size\n",
        "\n",
        "        # Dense layers\n",
        "        self.fc = nn.Linear(self.fc_input_size, 128)\n",
        "        self.fc2 = nn.Linear(128, num_classes)\n",
        "\n",
        "    def forward(self, x):\n",
        "        x = self.conv_layers(x)\n",
        "        x = x.view(x.size(0), -1)\n",
        "        x = self.fc(x)\n",
        "        x = self.fc2(x)\n",
        "        return x\n",
        "\n",
        "# Hyperparameters\n",
        "num_classes = 10\n",
        "num_filters = [32, 64, 128, 256, 512]\n",
        "filter_size = [(3, 3), (3, 3), (3, 3), (3, 3), (3, 3)]\n",
        "activation = 'ReLU'  #activation function\n",
        "filter_org = 'double'  # 'same', 'double', 'halve'\n",
        "use_batchnorm = True  # Set to True or False\n",
        "use_dropout = True  # Set to True or False\n",
        "num_epochs = 2"
      ],
      "metadata": {
        "id": "TL6pcSdUH-RN"
      },
      "execution_count": null,
      "outputs": []
    },
    {
      "cell_type": "code",
      "source": [
        "layers = []\n",
        "in_channels = 3\n",
        "num_classes = 10\n",
        "num_filters = [32, 64, 128, 256, 512]\n",
        " for i in range(len(num_filters)):\n",
        "            layers.append(nn.Conv2d(in_channels, num_filters[i], filter_size[i]))\n",
        "            if use_batchnorm:\n",
        "                layers.append(nn.BatchNorm2d(num_filters[i]))\n",
        "            if activation == 'ReLU':\n",
        "                layers.append(nn.ReLU())\n",
        "            elif activation == 'GELU':\n",
        "                layers.append(nn.GELU())\n",
        "            elif activation == 'SiLU':\n",
        "                layers.append(nn.SiLU())\n",
        "            elif activation == 'Mish':\n",
        "                layers.append(nn.Mish())\n",
        "            layers.append(nn.MaxPool2d(2, 2))\n",
        "            if use_dropout:\n",
        "                layers.append(nn.Dropout(0.2))\n",
        "            in_channels = num_filters[i]"
      ],
      "metadata": {
        "id": "kbvp1IjhIoSS"
      },
      "execution_count": null,
      "outputs": []
    }
  ]
}